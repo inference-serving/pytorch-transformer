{
 "cells": [
  {
   "cell_type": "code",
   "execution_count": 1,
   "metadata": {},
   "outputs": [
    {
     "name": "stdout",
     "output_type": "stream",
     "text": [
      "Using device: cuda\n",
      "    SOURCE: --f=/home/cc/.local/share/jupyter/runtime/kernel-v2-7557042ePUSzsOR32i.json\n",
      " PREDICTED: E  l ’  dei  dei  dei  .  "
     ]
    }
   ],
   "source": [
    "from pathlib import Path\n",
    "import torch\n",
    "import torch.nn as nn\n",
    "from config import get_config, latest_weights_file_path\n",
    "from train import get_model, get_ds, run_validation\n",
    "from translate import translate"
   ]
  },
  {
   "cell_type": "code",
   "execution_count": 2,
   "metadata": {},
   "outputs": [
    {
     "name": "stdout",
     "output_type": "stream",
     "text": [
      "Using device: cuda\n"
     ]
    },
    {
     "name": "stdout",
     "output_type": "stream",
     "text": [
      "Max length of source sentence: 309\n",
      "Max length of target sentence: 274\n"
     ]
    },
    {
     "data": {
      "text/plain": [
       "<All keys matched successfully>"
      ]
     },
     "execution_count": 2,
     "metadata": {},
     "output_type": "execute_result"
    }
   ],
   "source": [
    "# Define the device\n",
    "device = torch.device(\"cuda\" if torch.cuda.is_available() else \"cpu\")\n",
    "print(\"Using device:\", device)\n",
    "config = get_config()\n",
    "train_dataloader, val_dataloader, tokenizer_src, tokenizer_tgt = get_ds(config)\n",
    "model = get_model(config, tokenizer_src.get_vocab_size(), tokenizer_tgt.get_vocab_size()).to(device)\n",
    "\n",
    "# Load the pretrained weights\n",
    "model_filename = latest_weights_file_path(config)\n",
    "state = torch.load(model_filename)\n",
    "model.load_state_dict(state['model_state_dict'])"
   ]
  },
  {
   "cell_type": "code",
   "execution_count": 3,
   "metadata": {},
   "outputs": [
    {
     "name": "stderr",
     "output_type": "stream",
     "text": [
      "stty: 'standard input': Inappropriate ioctl for device\n"
     ]
    },
    {
     "name": "stdout",
     "output_type": "stream",
     "text": [
      "--------------------------------------------------------------------------------\n",
      "    SOURCE: 'But they would not prevent you loving a wife!'\n",
      "    TARGET: — Ma essa non vi impedirà di amare vostra moglie.\n",
      " PREDICTED: — Ma non si dovrebbe essere innamorata di voi !\n",
      "--------------------------------------------------------------------------------\n",
      "    SOURCE: The two butchers who were just going to work with him had left him at the surprise of our first fire, and fled in a terrible fright to the seaside, and had jumped into a canoe, and three more of the rest made the same way.\n",
      "    TARGET: I due macellai che stavano appunto in procinto di spedire quell’infelice quando feci fuoco la prima volta, lo lasciarono presi da un grande spavento; poi, corsi al mare, saltarono dentro un canotto, ove si rifuggirono tre altri de’ loro compagni.\n",
      " PREDICTED: Due due per andare innanzi ad uso del fatto che l ’ aveva lasciata entrare nella prima della prima marea , e di mare per la marea , ed entrò di nuovo nella più bassa punta di mare , saltò più su di tre remi , e lo stesso co ’ più grossi .\n",
      "--------------------------------------------------------------------------------\n",
      "    SOURCE: \"And you will not marry me!\n",
      "    TARGET: — E voi non volete?\n",
      " PREDICTED: — E non mi sposerò .\n",
      "--------------------------------------------------------------------------------\n",
      "    SOURCE: 'He is not.\n",
      "    TARGET: — E non è vero!\n",
      " PREDICTED: — Non è vero .\n",
      "--------------------------------------------------------------------------------\n",
      "    SOURCE: He was moody, too; unaccountably so; I more than once, when sent for to read to him, found him sitting in his library alone, with his head bent on his folded arms; and, when he looked up, a morose, almost a malignant, scowl blackened his features. But I believed that his moodiness, his harshness, and his former faults of morality (I say _former_, for now he seemed corrected of them) had their source in some cruel cross of fate.\n",
      "    TARGET: Nel fondo del cuore sentivo che la sua grande bontà per me era controbilanciata da una ingiusta severità per gli altri; era inoltre capriccioso e bizzarro. Più di una volta, quando mi mandava a chiamare per leggere a voce alta, lo avevo trovato solo, seduto nella biblioteca, con le braccia incrociate, e, nell'alzar la testa, scorgevo sui suoi tratti un'espressione cupa e quasi cattiva, ma credevo che la sua durezza, la sua bizzarria e le sue colpe passate provenissero da qualche grande sventura.\n",
      " PREDICTED: Egli era troppo profondo , anzi la sua anima tanto più che quando m ' di nuovo , mi accorsi che era stata presso la sua biblioteca e il suo volto con le braccia di sua lunga vita . Quando mi accorsi che , quando un ' ombra mi aveva detto di udire la sua durezza , la sua durezza , la sua durezza , la sua durezza , la sua durezza e la di parole di una gran parola di una distruzione , che credevo di dover essere la .\n",
      "--------------------------------------------------------------------------------\n",
      "    SOURCE: Please let me!' she entreated as if her happiness depended on it.\n",
      "    TARGET: Ti prego, promettimi! — ella supplicava il marito come se la felicità della sua vita dipendesse da questo.\n",
      " PREDICTED: Per favore , ditele da parte vostra , se Dio la felicità dell ’ incontro è giunta .\n",
      "--------------------------------------------------------------------------------\n",
      "    SOURCE: \"Do you like your house?\"\n",
      "    TARGET: — Vi piace la casa?\n",
      " PREDICTED: — Vi piace la casa ?\n",
      "--------------------------------------------------------------------------------\n",
      "    SOURCE: Just to the same extent as Sappho was compact and spruce Lisa was limp and pliant. But to Anna Lisa was by far the more attractive.\n",
      "    TARGET: Quanto Safo era brusca e sostenuta, tanto Liza era morbida e abbandonata.\n",
      " PREDICTED: Quanto Safo era brusca e sostenuta , tanto Liza era morbida e abbandonata .\n",
      "--------------------------------------------------------------------------------\n",
      "    SOURCE: She bowed slightly and went on. She heard Oblonsky's loud voice downstairs asking him to come in, and Vronsky's low, soft voice refusing.\n",
      "    TARGET: Ella, chinato lievemente il capo, passò e, dietro di lei, si sentì la voce forte di Stepan Arkad’ic che invitava a entrare e la voce bassa, morbida e pacata di Vronskij che rifiutava.\n",
      " PREDICTED: Ella s ’ inchinò profondamente e andò in silenzio . Oblonskij sentì il silenzio forte voce di lui che gli chiamava da lui , e la voce bassa e la voce bassa , morbida e pacata di Vronskij .\n",
      "--------------------------------------------------------------------------------\n",
      "    SOURCE: \"Thank you: I shall do: I have no broken bones,--only a sprain;\" and again he stood up and tried his foot, but the result extorted an involuntary \"Ugh!\"\n",
      "    TARGET: — Grazie, non ho nulla di rotto, si tratta di una storta. Volle provarsi un'altra volta a camminare, ma involontariamente gettò un grido.\n",
      " PREDICTED: — Grazie , non ho fatto un ' avventura in mezzo a una storta . Volle provarsi un ' altra volta a camminare , ma involontariamente gettò un grido .\n",
      "--------------------------------------------------------------------------------\n"
     ]
    }
   ],
   "source": [
    "run_validation(model, val_dataloader, tokenizer_src, tokenizer_tgt, config['seq_len'], device, lambda msg: print(msg), 0, None, num_examples=10)"
   ]
  },
  {
   "cell_type": "code",
   "execution_count": 4,
   "metadata": {},
   "outputs": [
    {
     "name": "stdout",
     "output_type": "stream",
     "text": [
      "Using device: cuda\n"
     ]
    },
    {
     "name": "stdout",
     "output_type": "stream",
     "text": [
      "    SOURCE: Why do I need to translate this?\n",
      " PREDICTED: Perché non ho forse  di  ?  "
     ]
    }
   ],
   "source": [
    "t = translate(\"Why do I need to translate this?\")"
   ]
  },
  {
   "cell_type": "code",
   "execution_count": 5,
   "metadata": {},
   "outputs": [
    {
     "name": "stdout",
     "output_type": "stream",
     "text": [
      "Using device: cuda\n"
     ]
    },
    {
     "name": "stdout",
     "output_type": "stream",
     "text": [
      "        ID: 34\n",
      "    SOURCE: And I came out immediately, for I trembled at the idea of being dragged forth by the said Jack.\n",
      "    TARGET: Uscii subito, perché mi sgomentavo al pensiero di esser condotta fuori dal mio nascondiglio da John.\n",
      " PREDICTED: E io me finalmente , perchè mi lampeggiò l ’ idea l ’ ho s ’ ho s ’ ho s ’ ho s ’ s ’ ho detto  ... — e dissi ...  "
     ]
    }
   ],
   "source": [
    "t = translate(34)"
   ]
  },
  {
   "cell_type": "code",
   "execution_count": null,
   "metadata": {},
   "outputs": [],
   "source": []
  }
 ],
 "metadata": {
  "kernelspec": {
   "display_name": "transformer",
   "language": "python",
   "name": "python3"
  },
  "language_info": {
   "codemirror_mode": {
    "name": "ipython",
    "version": 3
   },
   "file_extension": ".py",
   "mimetype": "text/x-python",
   "name": "python",
   "nbconvert_exporter": "python",
   "pygments_lexer": "ipython3",
   "version": "3.10.14"
  },
  "orig_nbformat": 4
 },
 "nbformat": 4,
 "nbformat_minor": 2
}
